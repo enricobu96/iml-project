{
 "cells": [
  {
   "cell_type": "code",
   "execution_count": 1,
   "metadata": {},
   "outputs": [],
   "source": [
    "# Data loading\n",
    "\n",
    "import pandas as pd\n",
    "import numpy as np\n",
    "import seaborn as sns\n",
    "import matplotlib.pyplot as plt\n",
    "\n",
    "training_set = pd.read_csv('./data/npf_train.csv')\n",
    "test_set = pd.read_csv('./data/npf_test_hidden.csv')\n",
    "\n",
    "# Create class2 column\n",
    "training_set['class2'] = training_set['class4'].apply(lambda x: 'nonevent' if x=='nonevent' else 'event')\n",
    "\n",
    "del training_set['id']\n",
    "del training_set['class4'] # still, just binary classification for now\n",
    "del training_set['date']\n",
    "\n",
    "del test_set['id']\n",
    "del test_set['date']\n",
    "\n",
    "del training_set['partlybad'] # useless field, it is always False\n",
    "del test_set['partlybad']\n",
    "\n",
    "# Binary classification atm\n",
    "X_train = training_set[training_set.columns.difference(['class2'])]\n",
    "y_train = training_set['class2'].apply(lambda x: 0 if x=='nonevent' else 1) # 0 = nonevent, 1 = event\n",
    "\n",
    "X_test = test_set[test_set.columns.difference(['class4'])]"
   ]
  },
  {
   "cell_type": "code",
   "execution_count": 5,
   "metadata": {},
   "outputs": [
    {
     "data": {
      "text/plain": [
       "0.8842794759825328"
      ]
     },
     "execution_count": 5,
     "metadata": {},
     "output_type": "execute_result"
    }
   ],
   "source": [
    "# Baseline\n",
    "from sklearn.linear_model import LogisticRegression\n",
    "from sklearn.model_selection import cross_val_score\n",
    "\n",
    "clf = LogisticRegression(max_iter=10000)\n",
    "print('Accuracy on training set:', clf.fit(X_train, y_train).score(X_train, y_train))\n",
    "print('CV accuracy:', cross_val_score(clf, X_train, y_train, cv=5).mean())\n"
   ]
  }
 ],
 "metadata": {
  "interpreter": {
   "hash": "916dbcbb3f70747c44a77c7bcd40155683ae19c65e1c03b4aa3499c5328201f1"
  },
  "kernelspec": {
   "display_name": "Python 3.7.3 64-bit",
   "language": "python",
   "name": "python3"
  },
  "language_info": {
   "codemirror_mode": {
    "name": "ipython",
    "version": 3
   },
   "file_extension": ".py",
   "mimetype": "text/x-python",
   "name": "python",
   "nbconvert_exporter": "python",
   "pygments_lexer": "ipython3",
   "version": "3.9.7"
  },
  "orig_nbformat": 4
 },
 "nbformat": 4,
 "nbformat_minor": 2
}
